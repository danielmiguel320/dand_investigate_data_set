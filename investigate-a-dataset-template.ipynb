{
 "cells": [
  {
   "cell_type": "markdown",
   "metadata": {},
   "source": [
    "\n",
    "\n",
    "# Project: Investigate The Movie Database\n",
    "\n",
    "## Table of Contents\n",
    "<ul>\n",
    "<li><a href=\"#intro\">Introduction</a></li>\n",
    "<li><a href=\"#wrangling\">Data Wrangling</a></li>\n",
    "<li><a href=\"#eda\">Exploratory Data Analysis</a></li>\n",
    "<li><a href=\"#conclusions\">Conclusions</a></li>\n",
    "</ul>"
   ]
  },
  {
   "cell_type": "markdown",
   "metadata": {},
   "source": [
    "<a id='intro'></a>\n",
    "## Introduction\n",
    "\n",
    "I chose the movie dataset for my project. This dataset contain the information of over 10,000 movies! The questions that we are looking to answer are: Which genres are most popular from year to year? What kinds of properties are associated with movies that have high revenues?"
   ]
  },
  {
   "cell_type": "code",
   "execution_count": null,
   "metadata": {},
   "outputs": [],
   "source": [
    "import pandas as pd\n",
    "import matplotlib.pyplot as plt\n",
    "import seaborn as sns\n",
    "%matplotlib inline"
   ]
  },
  {
   "cell_type": "markdown",
   "metadata": {},
   "source": [
    "<a id='wrangling'></a>\n",
    "## Data Wrangling\n",
    "\n",
    "### General Properties\n",
    "Some things to take note about our dataset. Any movie that the budget is 0 should be treated as missing values as per the documentation found [here](https://www.kaggle.com/tmdb/tmdb-movie-metadata). Also we are assuming that the values for budget, revenue, budget_adj, and revenue_adj are in USD. Finally the popularity is a metric used to help boost search results and discover options. [source](https://developers.themoviedb.org/3/discover/movie-discover) "
   ]
  },
  {
   "cell_type": "code",
   "execution_count": null,
   "metadata": {},
   "outputs": [],
   "source": [
    "# Load your data and print out a few lines. Perform operations to inspect data\n",
    "#   types and look for instances of missing or possibly errant data.\n",
    "df = pd.read_csv('tmdb-movies.csv')\n",
    "df.head()"
   ]
  },
  {
   "cell_type": "markdown",
   "metadata": {},
   "source": [
    "### Data Cleaning\n",
    "1. Remove duplicated fields\n",
    "2. Drop columns that aren't needed\n",
    "3. Drop entries that are missing values"
   ]
  },
  {
   "cell_type": "markdown",
   "metadata": {},
   "source": [
    "#### 1. Remove duplicated fields\n",
    "Let's check to see if the dataset has any duplicate fields."
   ]
  },
  {
   "cell_type": "code",
   "execution_count": null,
   "metadata": {},
   "outputs": [],
   "source": [
    "print('Number of duplicated entries: {}'.format(df.duplicated().sum())) # the result is 1"
   ]
  },
  {
   "cell_type": "markdown",
   "metadata": {},
   "source": [
    "Since the dataset has 1 duplicated field let's get rid of it."
   ]
  },
  {
   "cell_type": "code",
   "execution_count": null,
   "metadata": {},
   "outputs": [],
   "source": [
    "#dropping duplicated values\n",
    "df.drop_duplicates(inplace=True)"
   ]
  },
  {
   "cell_type": "markdown",
   "metadata": {},
   "source": [
    "#### 2. Drop columns that aren't needed\n",
    "The next step is to drop columns that aren't needed to answer our questions.\n",
    "\n",
    "__imbd_id:__ This is a unique value that helps id movies since we already have an id that is unique this field is not needed.\n",
    "\n",
    "__budget and revenue:__ Both of these fields are being dropped because the dataset contains budget_adj and revenue_adj that has the values adjusted for inflation.\n",
    "\n",
    "__homepage, taglines, overview:__ These columns contain data that aren't relevant to our questions."
   ]
  },
  {
   "cell_type": "code",
   "execution_count": null,
   "metadata": {},
   "outputs": [],
   "source": [
    "drop_list = ['imdb_id', 'budget', 'revenue', 'homepage', 'tagline', 'overview']\n",
    "for c in drop_list:\n",
    "    df.drop(columns = c, inplace=True)"
   ]
  },
  {
   "cell_type": "markdown",
   "metadata": {},
   "source": [
    "#### 3. Remove missing values\n",
    "Let's check if our dataframe has missing values"
   ]
  },
  {
   "cell_type": "code",
   "execution_count": null,
   "metadata": {},
   "outputs": [],
   "source": [
    "#count the number of missing values\n",
    "df.isna().sum()"
   ]
  },
  {
   "cell_type": "markdown",
   "metadata": {},
   "source": [
    "Let's drop the rows with missing values."
   ]
  },
  {
   "cell_type": "code",
   "execution_count": null,
   "metadata": {},
   "outputs": [],
   "source": [
    "df.dropna(inplace=True)\n",
    "df.info()"
   ]
  },
  {
   "cell_type": "markdown",
   "metadata": {},
   "source": [
    "We also need to make sure that the movies budget_adj is not equal to 0"
   ]
  },
  {
   "cell_type": "code",
   "execution_count": null,
   "metadata": {},
   "outputs": [],
   "source": [
    "df = df[df['budget_adj'] != 0]\n",
    "df.info()"
   ]
  },
  {
   "cell_type": "markdown",
   "metadata": {},
   "source": [
    "<a id='eda'></a>\n",
    "## Exploratory Data Analysis\n",
    "\n",
    "> **Tip**: Now that you've trimmed and cleaned your data, you're ready to move on to exploration. Compute statistics and create visualizations with the goal of addressing the research questions that you posed in the Introduction section. It is recommended that you be systematic with your approach. Look at one variable at a time, and then follow it up by looking at relationships between variables.\n",
    "\n",
    "### Which genres are most popular from year to year?\n",
    "To do this first we need to seperate the genres column to seperate columns."
   ]
  },
  {
   "cell_type": "code",
   "execution_count": null,
   "metadata": {},
   "outputs": [],
   "source": [
    "genres = df['genres'].str.split('|', expand=True)\n",
    "genres.rename(columns = lambda x: 'genres'+ str(x), inplace=True)\n",
    "genres_df = pd.concat([df,genres], axis=1)\n",
    "genres_df.drop(labels='genres', inplace=True, axis=1)\n",
    "genres_df.head()"
   ]
  },
  {
   "cell_type": "markdown",
   "metadata": {},
   "source": [
    "Now we are going to use pandas crosstab function to count the number of times the genres appear and plot the results on a heatmap."
   ]
  },
  {
   "cell_type": "code",
   "execution_count": null,
   "metadata": {},
   "outputs": [],
   "source": [
    "q1 = pd.crosstab(genres_df['release_year'], genres_df['genres0'], dropna = False)\n",
    "q2 = pd.crosstab(genres_df['release_year'], genres_df['genres1'], dropna = False)\n",
    "q3 = pd.crosstab(genres_df['release_year'], genres_df['genres2'], dropna = False)\n",
    "q4 = pd.crosstab(genres_df['release_year'], genres_df['genres3'], dropna = False)\n",
    "q5 = pd.crosstab(genres_df['release_year'], genres_df['genres4'], dropna = False)\n",
    "genres_count = q1.add(q2)\n",
    "genres_count.add(q3)\n",
    "genres_count.add(q4)\n",
    "genres_count.add(q5)\n",
    "\n",
    "plt.figure(figsize=(12,24))\n",
    "sns.heatmap(genres_count,\n",
    "            cmap = 'coolwarm', \n",
    "            robust = True, \n",
    "            annot = True, \n",
    "            cbar = False);"
   ]
  },
  {
   "cell_type": "markdown",
   "metadata": {},
   "source": [
    "### What kinds of properties are associated with movies that have high revenues?\n",
    "Let's filter our dataset by using only the last quartile filtered by the revenue_adj column"
   ]
  },
  {
   "cell_type": "code",
   "execution_count": null,
   "metadata": {},
   "outputs": [],
   "source": [
    "genres_df['revenue_adj'].describe()"
   ]
  },
  {
   "cell_type": "code",
   "execution_count": null,
   "metadata": {},
   "outputs": [],
   "source": [
    "high_rev = genres_df[genres_df['revenue_adj'] >= 1.267480e+08]\n",
    "high_rev.info()"
   ]
  },
  {
   "cell_type": "markdown",
   "metadata": {},
   "source": [
    "Now that we have a filtered version of our dataset let's check to see if all of these movies had a high budget."
   ]
  },
  {
   "cell_type": "code",
   "execution_count": null,
   "metadata": {},
   "outputs": [],
   "source": [
    "sns.distplot(high_rev['budget_adj'], axlabel='Budget in USD');"
   ]
  },
  {
   "cell_type": "code",
   "execution_count": null,
   "metadata": {},
   "outputs": [],
   "source": [
    "sns.scatterplot(x='revenue_adj', y='budget_adj', data=high_rev);"
   ]
  },
  {
   "cell_type": "markdown",
   "metadata": {},
   "source": [
    "Let's see if the movies with high revenue were profitable."
   ]
  },
  {
   "cell_type": "code",
   "execution_count": null,
   "metadata": {},
   "outputs": [],
   "source": [
    "high_rev['profit'] = df['revenue_adj'] - df['budget_adj']"
   ]
  },
  {
   "cell_type": "code",
   "execution_count": null,
   "metadata": {},
   "outputs": [],
   "source": [
    "high_rev['profit'].describe()"
   ]
  },
  {
   "cell_type": "code",
   "execution_count": null,
   "metadata": {},
   "outputs": [],
   "source": [
    "sns.distplot(high_rev['profit'],axlabel='Profit in USD');"
   ]
  },
  {
   "cell_type": "code",
   "execution_count": null,
   "metadata": {},
   "outputs": [],
   "source": [
    "q1 = pd.crosstab(high_rev['release_year'], high_rev['genres0'], dropna = False)\n",
    "q2 = pd.crosstab(high_rev['release_year'], high_rev['genres1'], dropna = False)\n",
    "q3 = pd.crosstab(high_rev['release_year'], high_rev['genres2'], dropna = False)\n",
    "q4 = pd.crosstab(high_rev['release_year'], high_rev['genres3'], dropna = False)\n",
    "q5 = pd.crosstab(high_rev['release_year'], high_rev['genres4'], dropna = False)\n",
    "genres_count = q1.add(q2)\n",
    "genres_count.add(q3)\n",
    "genres_count.add(q4)\n",
    "genres_count.add(q5)\n",
    "\n",
    "plt.figure(figsize=(12,24))\n",
    "sns.heatmap(genres_count,\n",
    "            cmap = 'coolwarm', \n",
    "            robust = True, \n",
    "            annot = True, \n",
    "            cbar = False);"
   ]
  },
  {
   "cell_type": "markdown",
   "metadata": {},
   "source": [
    "<a id='conclusions'></a>\n",
    "## Conclusions\n",
    "\n",
    "Throughout the years we see that drama was the most popular genre of movies.\n",
    "\n",
    "Some attributes of a movie with high revenue are:\n",
    "They tended to have higher budgets, they were profitable and were mainly action, adventure, comedies or dramas."
   ]
  },
  {
   "cell_type": "code",
   "execution_count": null,
   "metadata": {},
   "outputs": [],
   "source": []
  }
 ],
 "metadata": {
  "kernelspec": {
   "display_name": "Python 3",
   "language": "python",
   "name": "python3"
  },
  "language_info": {
   "codemirror_mode": {
    "name": "ipython",
    "version": 3
   },
   "file_extension": ".py",
   "mimetype": "text/x-python",
   "name": "python",
   "nbconvert_exporter": "python",
   "pygments_lexer": "ipython3",
   "version": "3.7.3"
  }
 },
 "nbformat": 4,
 "nbformat_minor": 2
}
